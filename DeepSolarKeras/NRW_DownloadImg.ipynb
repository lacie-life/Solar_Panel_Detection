{
 "cells": [
  {
   "cell_type": "markdown",
   "metadata": {},
   "source": [
    "### Split the raw json data to positive and negative json file"
   ]
  },
  {
   "cell_type": "code",
   "execution_count": null,
   "metadata": {
    "collapsed": true
   },
   "outputs": [],
   "source": [
    "import os\n",
    "import json\n",
    "\n",
    "annoPath = \"annotations/raw/\"\n",
    "anno_pos = \"annotations/clean/pos/\"\n",
    "anno_neg = \"annotations/clean/neg/\"\n",
    "\n",
    "os.makedirs(anno_pos,exist_ok=True)\n",
    "os.makedirs(anno_neg,exist_ok=True)\n",
    "\n",
    "for file in os.listdir(annoPath):\n",
    "    if file.endswith(\".json\"):\n",
    "        jsonFile = open(annoPath+file)\n",
    "        data = json.load(jsonFile)\n",
    "        pos_image = []\n",
    "        neg_image = []\n",
    "        POIs = \"POIs\"\n",
    "        for anno in data:\n",
    "            if len(anno['POIs']) >2:\n",
    "                pos_image.append(anno)\n",
    "            else: neg_image.append(anno)\n",
    "            \n",
    "        with open(anno_pos+file, 'w') as outfile:\n",
    "            json.dump(pos_image, outfile)\n",
    "        with open(anno_neg+file, 'w') as outfile:\n",
    "            json.dump(neg_image, outfile)"
   ]
  },
  {
   "cell_type": "code",
   "execution_count": null,
   "metadata": {
    "collapsed": true
   },
   "outputs": [],
   "source": [
    "# Test \n",
    "jsonFile = \"annotations/clean/neg/data_6.json\"\n",
    "jsonFile = open(jsonFile)\n",
    "data = json.load(jsonFile) \n",
    "print('neg: ',data[:2],'\\n')\n",
    "\n",
    "jsonFile = \"annotations/clean/pos/data_6.json\"\n",
    "jsonFile = open(jsonFile)\n",
    "data = json.load(jsonFile) \n",
    "print('pos:',data[:2])"
   ]
  },
  {
   "cell_type": "markdown",
   "metadata": {},
   "source": [
    "### Download the image(Positive/Negative)"
   ]
  },
  {
   "cell_type": "code",
   "execution_count": null,
   "metadata": {
    "collapsed": true
   },
   "outputs": [],
   "source": [
    "import webMapTool\n",
    "from tqdm import tqdm\n",
    "from owslib.wms import WebMapService\n",
    "from PIL import Image\n",
    "import io\n",
    "import os\n",
    "import json\n",
    "import re\n",
    "from pyproj import Proj, transform\n",
    "\n",
    "\n",
    "imagePath = 'Test/tiff/'\n",
    "layer =  'nw_dop_rgb'\n",
    "img_format = \"image/tiff\"\n",
    "style='default'\n",
    "wms = WebMapService('https://www.wms.nrw.de/geobasis/wms_nw_dop', version='1.1.1')\n",
    "\n",
    "x_range = 50 \n",
    "y_range = 50\n",
    "resolution = 500\n",
    "\n",
    "def downloadImg(imagePath,gps_x,gps_y,x_meters,y_meters,resolution):\n",
    "    loc = (gps_x, gps_y) \n",
    "    print(loc)\n",
    "    locs = webMapTool.slide_location(loc,xmeters=x_meters,ymeters=y_meters,xtimes=1,ytimes=1)\n",
    "    for loc in tqdm(locs):\n",
    "        img, bbox_m = webMapTool.img_selector(wms,layer,img_format,loc, styles=style , x_meters=x_meters,y_meters=y_meters, x_pixels=resolution,y_pixels =resolution)\n",
    "        mybyteimg = img.read()\n",
    "        image1 = Image.open(io.BytesIO(mybyteimg))\n",
    "\n",
    "    imgName = \"_x_\"+str(gps_x) +\"_y_\"+str(gps_y)+\"_range_\"+str(x_meters)+\"_resolution_\"+ str(resolution)+ \".tiff\"\n",
    "    os.makedirs(os.path.dirname(imagePath), exist_ok=True)\n",
    "    image1.save(imagePath + imgName)\n",
    "\n",
    "outProj = Proj(init='epsg:3857') # https://epsg.io/3857, basically it allows me to specify things in meters..\n",
    "inProj = Proj(init='epsg:4326') # https://epsg.io/4326"
   ]
  },
  {
   "cell_type": "markdown",
   "metadata": {},
   "source": [
    "#### Download positve image: \n",
    "1. It will download the image which center around the solar panel. \n",
    "2. Set the shift_x and shift_y value will change the center accorddingly"
   ]
  },
  {
   "cell_type": "code",
   "execution_count": null,
   "metadata": {
    "collapsed": true
   },
   "outputs": [],
   "source": [
    "jsonFile = \"annotations/clean/pos/data_6.json\"\n",
    "jsonFile = open(jsonFile)\n",
    "data = json.load(jsonFile)\n",
    "imagePath = \"Test/pos/\"\n",
    "os.makedirs(imagePath,exist_ok=True)\n",
    "\n",
    "for i in range(len(data)):\n",
    "    test = data[i]\n",
    "    result = re.findall(r'\\d+',test['url'])\n",
    "    x = result[0] + \".\" + result[1]\n",
    "    y = result[2] + \".\" + result[3]    \n",
    "    poi =  test['POIs']\n",
    "    points = json.loads(poi)\n",
    "    # Shift x & y ∈  (-2/x , 2/x) \n",
    "    shift_x = 0   \n",
    "    shift_y = 0 \n",
    "    for point in points:\n",
    "        dis_x = point['x'] * 0.1 \n",
    "        dis_y = point['y'] * 0.1\n",
    "        x1, y1 = transform(inProj,outProj,x,y)\n",
    "        p = Proj(\"+proj=merc +lon_0=0 +k=1 +x_0=0 +y_0=0 +a=6378137 +b=6378137 +towgs84=0,0,0,0,0,0,0 +units=m +no_defs\")\n",
    "        new_x = x1 - 25 + dis_x + shift_x  \n",
    "        new_y = y1 + 25 - dis_y + shift_y \n",
    "        lon, lat = p(new_x,new_y, inverse=True)\n",
    "        downloadImg(imagePath,lon,lat,x_range,y_range,resolution)"
   ]
  },
  {
   "cell_type": "markdown",
   "metadata": {},
   "source": [
    "#### Download negtive image "
   ]
  },
  {
   "cell_type": "code",
   "execution_count": null,
   "metadata": {
    "collapsed": true
   },
   "outputs": [],
   "source": [
    "jsonFile = \"annotations/clean/neg/data_4.json\"\n",
    "jsonFile = open(jsonFile)\n",
    "data = json.load(jsonFile)\n",
    "imagePath = \"Test/neg/\"\n",
    "os.makedirs(imagePath,exist_ok=True)\n",
    "\n",
    "for i in range(len(data)):\n",
    "    test = data[i]\n",
    "    result = re.findall(r'\\d+',test['url'])\n",
    "    x = result[0] + \".\" + result[1]\n",
    "    y = result[2] + \".\" + result[3]    \n",
    "    downloadImg(imagePath,x,y,x_range,y_range,resolution)"
   ]
  },
  {
   "cell_type": "code",
   "execution_count": null,
   "metadata": {
    "collapsed": true
   },
   "outputs": [],
   "source": []
  }
 ],
 "metadata": {
  "kernelspec": {
   "display_name": "Python 3",
   "language": "python",
   "name": "python3"
  },
  "language_info": {
   "codemirror_mode": {
    "name": "ipython",
    "version": 3
   },
   "file_extension": ".py",
   "mimetype": "text/x-python",
   "name": "python",
   "nbconvert_exporter": "python",
   "pygments_lexer": "ipython3",
   "version": "3.6.2"
  }
 },
 "nbformat": 4,
 "nbformat_minor": 2
}
