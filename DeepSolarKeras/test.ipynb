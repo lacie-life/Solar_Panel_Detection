{
 "cells": [
  {
   "cell_type": "code",
   "execution_count": 1,
   "metadata": {},
   "outputs": [
    {
     "name": "stderr",
     "output_type": "stream",
     "text": [
      "/Users/chenxi/anaconda3/lib/python3.6/site-packages/h5py/__init__.py:34: FutureWarning: Conversion of the second argument of issubdtype from `float` to `np.floating` is deprecated. In future, it will be treated as `np.float64 == np.dtype(float).type`.\n",
      "  from ._conv import register_converters as _register_converters\n",
      "Using TensorFlow backend.\n"
     ]
    }
   ],
   "source": [
    "from keras.applications import ResNet50\n",
    "from keras.preprocessing.image import img_to_array\n",
    "from keras.applications import imagenet_utils\n",
    "from PIL import Image\n",
    "import numpy as np\n",
    "import flask\n",
    "import io\n",
    "import os \n",
    "\n",
    "from keras.applications import VGG16\n",
    "from keras.layers import GlobalAveragePooling2D,MaxPooling2D, Dense, Dropout, BatchNormalization, Flatten\n",
    "from keras.models import Model\n",
    "import tensorflow as tf"
   ]
  },
  {
   "cell_type": "code",
   "execution_count": 2,
   "metadata": {
    "collapsed": true
   },
   "outputs": [
    {
     "name": "stdout",
     "output_type": "stream",
     "text": [
      "input_1 is not trainable\n",
      "block1_conv1 is not trainable\n",
      "block1_conv2 is not trainable\n",
      "block1_pool is not trainable\n",
      "block2_conv1 is not trainable\n",
      "block2_conv2 is not trainable\n",
      "block2_pool is not trainable\n",
      "block3_conv1 is not trainable\n",
      "block3_conv2 is not trainable\n",
      "block3_conv3 is not trainable\n",
      "block3_pool is not trainable\n",
      "block4_conv1 is not trainable\n",
      "block4_conv2 is not trainable\n",
      "block4_conv3 is not trainable\n",
      "block4_pool is not trainable\n",
      "block5_conv1 is not trainable\n",
      "block5_conv2 is not trainable\n",
      "block5_conv3 is trainable\n",
      "block5_pool is trainable\n"
     ]
    }
   ],
   "source": [
    "def vgg16_model(trainable=True):\n",
    "    base_model = VGG16(False, \"imagenet\")\n",
    "    train_from_layer = -2\n",
    "    for layer in base_model.layers[:train_from_layer]:\n",
    "        layer.trainable = False\n",
    "        print(\"{} is not trainable\".format(layer.name))\n",
    "    for layer in base_model.layers[train_from_layer:]:\n",
    "        #layer.trainable = True\n",
    "        layer.trainable = False\n",
    "        print(\"{} is trainable\".format(layer.name))\n",
    "    last_conv_layer = base_model.get_layer(\"block5_conv3\")\n",
    "    x = GlobalAveragePooling2D()(last_conv_layer.output)\n",
    "    #x = Flatten()(last_conv_layer.output)\n",
    "    x = BatchNormalization(axis=-1)(x)\n",
    "    x = Dropout(0.5)(x)\n",
    "    x = Dense(512, activation=\"relu\")(x)        \n",
    "    predictions = Dense(1, activation=\"sigmoid\")(x)\n",
    "    return Model(base_model.input, predictions)\n",
    "\n",
    "\n",
    "model = vgg16_model(False)\n",
    "model.load_weights('static/vgg16_3t_wmp_wr_aachen__06_0.89.hdf5')\n",
    "graph = tf.get_default_graph()\n",
    "\n"
   ]
  },
  {
   "cell_type": "code",
   "execution_count": 47,
   "metadata": {
    "collapsed": true
   },
   "outputs": [],
   "source": [
    "import cv2\n",
    "def create_batches(path,files):\n",
    "    images = []\n",
    "    for i in range(len(files)):\n",
    "        print(files[i])\n",
    "        img = cv2.imread(path+files[i],1)\n",
    "        img = cv2.cvtColor(img, cv2.COLOR_BGR2RGB)\n",
    "        img = cv2.resize(img, (75,75))\n",
    "        img = img/255\n",
    "        img = img_to_array(img)\n",
    "        images.append(img)\n",
    "    images = np.array(images).reshape(-1,75,75,3)\n",
    "    return images"
   ]
  },
  {
   "cell_type": "code",
   "execution_count": 63,
   "metadata": {},
   "outputs": [
    {
     "data": {
      "text/plain": [
       "['.DS_Store']"
      ]
     },
     "execution_count": 63,
     "metadata": {},
     "output_type": "execute_result"
    }
   ],
   "source": [
    "import os\n",
    "path = \"static/label/False_Negative/\"\n",
    "files = os.listdir(path) \n",
    "labels = [1]*len(files)\n",
    "files\n"
   ]
  },
  {
   "cell_type": "code",
   "execution_count": 48,
   "metadata": {},
   "outputs": [
    {
     "name": "stdout",
     "output_type": "stream",
     "text": [
      "1532181374.0img_1069.png\n",
      "1532181372.0img_1064.png\n",
      "1532181377.0img_1080.png\n",
      "1532181373.0img_1068.png\n",
      "1532181377.0img_1098.png\n"
     ]
    }
   ],
   "source": [
    "images =  create_batches(path,files)"
   ]
  },
  {
   "cell_type": "code",
   "execution_count": 50,
   "metadata": {
    "collapsed": true
   },
   "outputs": [
    {
     "name": "stdout",
     "output_type": "stream",
     "text": [
      "Epoch 1/10\n",
      "5/5 [==============================] - 1s 179ms/step - loss: 2.3209\n",
      "Epoch 2/10\n",
      "5/5 [==============================] - 0s 63ms/step - loss: 1.4210\n",
      "Epoch 3/10\n",
      "5/5 [==============================] - 0s 55ms/step - loss: 1.0648\n",
      "Epoch 4/10\n",
      "5/5 [==============================] - 0s 51ms/step - loss: 0.7883\n",
      "Epoch 5/10\n",
      "5/5 [==============================] - 0s 58ms/step - loss: 0.6457\n",
      "Epoch 6/10\n",
      "5/5 [==============================] - 0s 59ms/step - loss: 0.5629\n",
      "Epoch 7/10\n",
      "5/5 [==============================] - 0s 67ms/step - loss: 0.2711\n",
      "Epoch 8/10\n",
      "5/5 [==============================] - 0s 62ms/step - loss: 0.3243\n",
      "Epoch 9/10\n",
      "5/5 [==============================] - 0s 54ms/step - loss: 0.2711\n",
      "Epoch 10/10\n",
      "5/5 [==============================] - 0s 62ms/step - loss: 0.1884\n"
     ]
    },
    {
     "data": {
      "text/plain": [
       "<keras.callbacks.History at 0x127bed9b0>"
      ]
     },
     "execution_count": 50,
     "metadata": {},
     "output_type": "execute_result"
    }
   ],
   "source": [
    "model.compile(optimizer=\"adadelta\", loss='binary_crossentropy',)\n",
    "model.fit(images,labels,batch_size=5,epochs=10)\n",
    "\n",
    "Delete the file after training: "
   ]
  },
  {
   "cell_type": "code",
   "execution_count": 66,
   "metadata": {},
   "outputs": [
    {
     "data": {
      "text/plain": [
       "array([2, 2, 2])"
      ]
     },
     "execution_count": 66,
     "metadata": {},
     "output_type": "execute_result"
    }
   ],
   "source": [
    "x = [2]\n",
    "x = x*3\n",
    "np.array(x)"
   ]
  },
  {
   "cell_type": "code",
   "execution_count": 51,
   "metadata": {},
   "outputs": [
    {
     "data": {
      "text/plain": [
       "array([[0.8757897 ],\n",
       "       [0.79071677],\n",
       "       [0.82779604],\n",
       "       [0.8921048 ],\n",
       "       [0.8783116 ]], dtype=float32)"
      ]
     },
     "execution_count": 51,
     "metadata": {},
     "output_type": "execute_result"
    }
   ],
   "source": [
    "model.predict(images)"
   ]
  },
  {
   "cell_type": "code",
   "execution_count": 52,
   "metadata": {
    "collapsed": true
   },
   "outputs": [],
   "source": [
    "# Remove file after training\n",
    "for file in files:\n",
    "    os.remove(path+file)"
   ]
  },
  {
   "cell_type": "code",
   "execution_count": 56,
   "metadata": {},
   "outputs": [
    {
     "data": {
      "text/plain": [
       "'xx'"
      ]
     },
     "execution_count": 56,
     "metadata": {},
     "output_type": "execute_result"
    }
   ],
   "source": [
    "your_path = \"what/does/xx.png\"\n",
    "os.path.basename(your_path)[:-4] "
   ]
  },
  {
   "cell_type": "code",
   "execution_count": 58,
   "metadata": {},
   "outputs": [
    {
     "data": {
      "text/plain": [
       "'2.24'"
      ]
     },
     "execution_count": 58,
     "metadata": {},
     "output_type": "execute_result"
    }
   ],
   "source": [
    "x = 2.24445\n",
    "str(x)[:4]"
   ]
  },
  {
   "cell_type": "code",
   "execution_count": 59,
   "metadata": {},
   "outputs": [
    {
     "data": {
      "text/plain": [
       "'static/label/default.jpg'"
      ]
     },
     "execution_count": 59,
     "metadata": {},
     "output_type": "execute_result"
    }
   ],
   "source": [
    "import shutil\n",
    "shutil.move('static/default.jpg','static/label/default.jpg')"
   ]
  }
 ],
 "metadata": {
  "kernelspec": {
   "display_name": "Python 3",
   "language": "python",
   "name": "python3"
  },
  "language_info": {
   "codemirror_mode": {
    "name": "ipython",
    "version": 3
   },
   "file_extension": ".py",
   "mimetype": "text/x-python",
   "name": "python",
   "nbconvert_exporter": "python",
   "pygments_lexer": "ipython3",
   "version": "3.6.2"
  }
 },
 "nbformat": 4,
 "nbformat_minor": 2
}
